{
 "cells": [
  {
   "cell_type": "markdown",
   "id": "e48b89bc-8a79-4cfb-99d0-fbacea48d37e",
   "metadata": {},
   "source": [
    "NUMBER 1"
   ]
  },
  {
   "cell_type": "code",
   "execution_count": 22,
   "id": "3d60b578-2804-43d5-9350-85ce4d492ee5",
   "metadata": {},
   "outputs": [
    {
     "name": "stdin",
     "output_type": "stream",
     "text": [
      "Enter text to Alphabetize:  yESHA\n"
     ]
    },
    {
     "name": "stdout",
     "output_type": "stream",
     "text": [
      "Original:  yESHA\n",
      "Alphabetical:  AEHSy\n"
     ]
    }
   ],
   "source": [
    "def alphabetize_string(s):\n",
    "    return ''.join(sorted(s))\n",
    "\n",
    "s = input (\"Enter text to Alphabetize: \")\n",
    "r = alphabetize_string(s)\n",
    "print (\"Original: \", s)\n",
    "print (\"Alphabetical: \",r)"
   ]
  },
  {
   "cell_type": "markdown",
   "id": "dfe01313-78d1-4457-ac81-c475000d8ae1",
   "metadata": {},
   "source": [
    "NUMBER 2"
   ]
  },
  {
   "cell_type": "code",
   "execution_count": 20,
   "id": "ac114c88-a6ad-4f9d-8d87-290204e39cb9",
   "metadata": {},
   "outputs": [
    {
     "name": "stdin",
     "output_type": "stream",
     "text": [
      "Enter Sentence:  I am smile I am sad\n"
     ]
    },
    {
     "name": "stdout",
     "output_type": "stream",
     "text": [
      "I am :) I am :((\n"
     ]
    }
   ],
   "source": [
    "e = input(\"Enter Sentence: \")\n",
    "\n",
    "e=e.replace(\"smile\", \":)\")\n",
    "e=e.replace(\"grin\", \":D\")\n",
    "e=e.replace(\"sad\", \":((\")\n",
    "e= e.replace(\"mad\", \">:(\")\n",
    "\n",
    "print (e)"
   ]
  },
  {
   "cell_type": "markdown",
   "id": "74391e41-be53-4296-9113-c5920c15579e",
   "metadata": {},
   "source": [
    "NUMBER 3"
   ]
  },
  {
   "cell_type": "code",
   "execution_count": 24,
   "id": "adfc2ca0-9820-4eeb-ac1d-57c4c12f9206",
   "metadata": {},
   "outputs": [
    {
     "name": "stdout",
     "output_type": "stream",
     "text": [
      "First:  1\n",
      "Middle:  [2, 3, 4, 5]\n",
      "Last  6\n"
     ]
    }
   ],
   "source": [
    "t = [1,2,3,4,5,6]\n",
    "\n",
    "first = (t[0])\n",
    "middle = (t[1:5])\n",
    "last = (t[5])\n",
    "\n",
    "print (\"First: \", first)\n",
    "print (\"Middle: \", middle)\n",
    "print (\"Last \", last)"
   ]
  },
  {
   "cell_type": "code",
   "execution_count": null,
   "id": "47d5837b-b2a5-4d7b-8325-3ce7b79a449e",
   "metadata": {},
   "outputs": [],
   "source": []
  }
 ],
 "metadata": {
  "kernelspec": {
   "display_name": "Python 3 (ipykernel)",
   "language": "python",
   "name": "python3"
  },
  "language_info": {
   "codemirror_mode": {
    "name": "ipython",
    "version": 3
   },
   "file_extension": ".py",
   "mimetype": "text/x-python",
   "name": "python",
   "nbconvert_exporter": "python",
   "pygments_lexer": "ipython3",
   "version": "3.13.5"
  }
 },
 "nbformat": 4,
 "nbformat_minor": 5
}
